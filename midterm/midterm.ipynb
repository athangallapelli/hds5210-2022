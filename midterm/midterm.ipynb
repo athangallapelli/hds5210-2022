{
 "cells": [
  {
   "cell_type": "markdown",
   "metadata": {},
   "source": [
    "# HDS5210-2022 Fall Midterm\n",
    "\n",
    "In the midterm exercise, you're going to use all the programming and data management skills you've developed so far to build a pricing calculator that will calculate how much money should be reimbursed for the visits in a CSV file. To do this, you will need to get allowed amounts (aka rates) from a JSON file, apply some special rules, and then calculate various totals by hospital or by month.\n",
    "\n",
    "Each step of the midterm will build up to form your final solution. Along the way, I've provided plenty of test cases to make sure you're getting each step correct.\n",
    "\n",
    "All functions require docstrings with a description and at least one test case.\n",
    "\n",
    "The midterm is due Monday, October 24th at 11:59 PM CST.\n",
    "\n",
    "---"
   ]
  },
  {
   "cell_type": "markdown",
   "metadata": {},
   "source": [
    "## Step 1: Average Rate\n",
    "\n",
    "With the `/data/negotiated_rates.json` file as input for your first function, read all the `allowed_amount` attributes and calculate an average allowed amount over all rates in the file.\n",
    "\n",
    "Your function should be named **average_rate()**, take the file's name as it's input parameter, and return a float as the result.\n",
    "\n",
    "**ROUND YOUR ANSWER TO 2 DECIMAL PLACES**"
   ]
  },
  {
   "cell_type": "code",
   "execution_count": 90,
   "metadata": {},
   "outputs": [],
   "source": [
    "import json\n",
    "\n",
    "def average_rate(file):\n",
    "    \"\"\"\n",
    "    This method is used to get the average of all the allowed_amount attribute values present in the data file taking \n",
    "    the file as an input parameter\n",
    "    \"\"\"\n",
    "    with open(file,'r') as f:\n",
    "        file=json.load(f)\n",
    "    values=[]\n",
    "    for i in range(len(file['out_of_network'])):\n",
    "        for j in range(len(file['out_of_network'][i]['allowed_amounts'])):\n",
    "            values.append(file['out_of_network'][i]['allowed_amounts'][j]['payments']['allowed_amount'])\n",
    "    return (round(sum(values)/len(values),2))\n",
    "\n",
    "    "
   ]
  },
  {
   "cell_type": "code",
   "execution_count": 91,
   "metadata": {},
   "outputs": [],
   "source": [
    "assert(average_rate('/data/negotiated_rates.json') == 38.67)"
   ]
  },
  {
   "cell_type": "code",
   "execution_count": 92,
   "metadata": {},
   "outputs": [
    {
     "data": {
      "text/plain": [
       "38.67"
      ]
     },
     "execution_count": 92,
     "metadata": {},
     "output_type": "execute_result"
    }
   ],
   "source": [
    "average_rate('/data/negotiated_rates.json')"
   ]
  },
  {
   "cell_type": "markdown",
   "metadata": {},
   "source": [
    "---\n",
    "\n",
    "## Step 2: Rate for a Billing Code / Service Code Combination\n",
    "\n",
    "For the next step, we need to be able to look up the allowed amount for any given billing code / service code combination.\n",
    "\n",
    "In this data, the billing code represents the service or procedure that was provided. The service code represents the type of site where the service was provided.\n",
    "\n",
    "Your function should be named **get_rate()** and take three parameters: the JSON file name, the billing code, and the service code. If your code can't find that combination in the file, it should return None."
   ]
  },
  {
   "cell_type": "code",
   "execution_count": 219,
   "metadata": {},
   "outputs": [],
   "source": [
    "import json\n",
    "\n",
    "def get_rate(file, billing_code, service_code):\n",
    "    \"\"\"\n",
    "    This function takes the file, billing code and service code as parameters and returns the allowed_amount\n",
    "    pertaining to the input parameters passed.\n",
    "    \"\"\"\n",
    "    with open(file,'r') as f:\n",
    "        file=json.load(f)\n",
    "    value=None\n",
    "    for i in range(len(file['out_of_network'])):\n",
    "        if(file['out_of_network'][i]['billing_code']==billing_code):\n",
    "            for j in range(len(file['out_of_network'][i]['allowed_amounts'])):\n",
    "                if(file['out_of_network'][i]['allowed_amounts'][j]['service_code']==service_code):\n",
    "                    value=file['out_of_network'][i]['allowed_amounts'][j]['payments']['allowed_amount']\n",
    "    return value\n",
    "    \n",
    "\n",
    "    "
   ]
  },
  {
   "cell_type": "code",
   "execution_count": 220,
   "metadata": {},
   "outputs": [],
   "source": [
    "assert (get_rate('/data/negotiated_rates.json','G0283','11') == 8.78)\n",
    "assert (get_rate('/data/negotiated_rates.json','97140','11') == 20.03)\n",
    "assert (get_rate('/data/negotiated_rates.json','97110','12') == 26.62)"
   ]
  },
  {
   "cell_type": "markdown",
   "metadata": {},
   "source": [
    "---\n",
    "\n",
    "## Part 3: Special Rules for Rates\n",
    "\n",
    "There are some special rules for adjusting rates depending on a patient's age and the day of week.  (These are made up. Not from the real world.) In the next part of the midterm, you'll need to create a function that applies these extra rules to a rate and return the adjusted value.\n",
    "\n",
    "1. If the day of week is Monday, charge only 75% of the allowed amount.\n",
    "2. If the patient's age is 65 or higher, charge only 50% of the allowed amount.\n",
    "3. If's both Monday and the patient's age is 65 or higher, charge only 50% of the allowed amount.\n",
    "4. If neither of these conditions are true, charge the whole amount.\n",
    "\n",
    "Your function should be named **get_adjusted_rate()** and take five parameters: file name, billing code, service code, patient age, and visit date.  Your function should return the adjusted rate (based on the rules above) or None if the rate couldn't be found in the file.\n",
    "\n",
    "Note that your function will take a date in the form `%Y-%m-%d` ([see datetime.strptime()](https://docs.python.org/3/library/datetime.html#datetime.datetime.strptime)) and will need to calculate the [day of week](https://docs.python.org/3/library/datetime.html#datetime.date.weekday).\n",
    "\n",
    "**ROUND YOUR ANSWER TO 2 DECIMAL PLACES**"
   ]
  },
  {
   "cell_type": "code",
   "execution_count": 221,
   "metadata": {},
   "outputs": [],
   "source": [
    "from datetime import datetime\n",
    "def get_adjusted_rate(file, billing_code, service_code, patient_age, visit_date):\n",
    "    \"\"\"\n",
    "    This function is used to adjust the rates of patients based on the following conditions:\n",
    "    1. If Week of day is Monday, we charge 75% \n",
    "    2. If patient's age is greater than 65, we charge 50%\n",
    "    3. If its both Monday and age is greater than 65, we charge 50%\n",
    "    4. If none of the above, we charge the full amount\n",
    "    \"\"\"\n",
    "    visitDate = datetime.strptime(visit_date,\"%Y-%m-%d\")\n",
    "    day = visitDate.strftime('%A')\n",
    "    actual_rate = get_rate(file, billing_code, service_code)\n",
    "    if actual_rate==None:\n",
    "        return None\n",
    "    try:\n",
    "        if day == 'Monday' and patient_age >= 65:\n",
    "            adjusted_rate = 0.5 *actual_rate\n",
    "        elif day == 'Monday':\n",
    "            adjusted_rate = 0.75 * actual_rate  \n",
    "        elif patient_age >= 65:\n",
    "            adjusted_rate = 0.5 * actual_rate\n",
    "        else:\n",
    "            return actual_rate\n",
    "        return round( adjusted_rate, 2)\n",
    "    except:\n",
    "        return None\n",
    "   \n",
    "\n",
    "\n",
    "            \n",
    "        \n",
    "\n",
    "    \n",
    "    "
   ]
  },
  {
   "cell_type": "code",
   "execution_count": 222,
   "metadata": {},
   "outputs": [],
   "source": [
    "assert (get_adjusted_rate('/data/negotiated_rates.json','G0283','11',22,'2022-01-07') == 8.78)\n",
    "assert (get_adjusted_rate('/data/negotiated_rates.json','G0283','11',22,'2022-01-03') == 6.58)\n",
    "assert (get_adjusted_rate('/data/negotiated_rates.json','G0283','11',76,'2022-01-03') == 4.39)\n",
    "assert (get_adjusted_rate('/data/negotiated_rates.json','G0283','11',76,'2022-01-08') == 4.39)"
   ]
  },
  {
   "cell_type": "code",
   "execution_count": 223,
   "metadata": {},
   "outputs": [
    {
     "name": "stdout",
     "output_type": "stream",
     "text": [
      "8.78\n",
      "6.58\n",
      "4.39\n",
      "4.39\n"
     ]
    }
   ],
   "source": [
    "print(get_adjusted_rate('/data/negotiated_rates.json','G0283','11',22,'2022-01-07'))\n",
    "print(get_adjusted_rate('/data/negotiated_rates.json','G0283','11',22,'2022-01-03'))\n",
    "print(get_adjusted_rate('/data/negotiated_rates.json','G0283','11',76,'2022-01-03'))\n",
    "print(get_adjusted_rate('/data/negotiated_rates.json','G0283','11',76,'2022-01-08'))"
   ]
  },
  {
   "cell_type": "markdown",
   "metadata": {},
   "source": [
    "---\n",
    "\n",
    "## Step 4: Calculate total payments for a list of visits\n",
    "\n",
    "Last step, we're going to put your get_adjusted_rate() function to work on a list of visits from a few hospitals in the St. Louis region.\n",
    "\n",
    "Your last function, **summarize_reimbursement()** needs to read an encounter file and the negotiated rates file, compute an adjusted rate for each encounter (row) in the input file, and return two dictionaries of information:\n",
    "1. Total expected reimbursement by month\n",
    "2. Total expected reimbursement by hospital\n",
    "\n",
    "Your should be able to run your function as `by_month, by_hospital = summarize_reimbursement(visits, negotiated_rates)` and have the two answers below:\n",
    "\n",
    "**by_month**\n",
    "```json\n",
    "{\n",
    "    '2021-05': 192.38,\n",
    "    '2021-03': 378.72,\n",
    "    '2021-07': 277.67,\n",
    "    '2021-06': 236.53,\n",
    "    '2021-11': 229.7,\n",
    "    '2021-10': 234.52,\n",
    "    '2021-12': 297.87,\n",
    "    '2021-04': 337.7,\n",
    "    '2021-09': 160.4,\n",
    "    '2021-01': 111.91,\n",
    "    '2021-02': 158.55,\n",
    "    '2021-08': 152.28\n",
    "}\n",
    "```\n",
    "\n",
    "**by_hospital**\n",
    "```json\n",
    "{\n",
    "    'Missouri Baptist': 514.18,\n",
    "    'SSM DePaul': 460.02,\n",
    "    'SLU Hospital': 409.67,\n",
    "    'Barnes Jewish': 485.7,\n",
    "    'Mercy Springfield': 518.59,\n",
    "    'Mercy St. Louis': 380.07\n",
    "}\n",
    "```\n",
    "\n",
    "**Round your totals to 2 decimal places**\n",
    "\n",
    "**If rates are not found, just ignore them**"
   ]
  },
  {
   "cell_type": "code",
   "execution_count": 224,
   "metadata": {},
   "outputs": [],
   "source": [
    "import json \n",
    "import csv\n",
    "from datetime import datetime\n",
    "def summarize_reimbursement(visits, negotiated_rates):\n",
    "    \"\"\"\n",
    "    This function returns the expected values of patient visits grouped by month and hospital\n",
    "    \"\"\"\n",
    "    by_month = {}\n",
    "    by_hospital = {}\n",
    "    with open(visits, 'r') as cf:\n",
    "        _csv = csv.DictReader(cf)\n",
    "        for row in _csv:\n",
    "            bi_c = row[ 'BILLING_CODE']\n",
    "            se_c = row[ 'SERVICE_CODE']\n",
    "            patient_age = row['PATIENT_AGE']\n",
    "            v_d = row[ 'VISIT_DATE']\n",
    "            hp = row[ 'HOSPITAL']\n",
    "            date = datetime. strptime (v_d, \"%Y-%m-%d\")\n",
    "            m = date.strftime ('%Y-%m') #month\n",
    "            rt = get_adjusted_rate (\n",
    "            negotiated_rates, bi_c, se_c, int(patient_age), v_d\n",
    "            )\n",
    "            if m in by_month:\n",
    "                adj_rate = by_month[m]\n",
    "                if rt is None:\n",
    "                    rt = 0\n",
    "                    by_month[m] = round(adj_rate + rt, 2)\n",
    "                else:\n",
    "                    by_month[m] = round(adj_rate + rt, 2)     \n",
    "            else:\n",
    "                if rt is not None:\n",
    "                    by_month[m] = round(rt, 2)\n",
    "                else:\n",
    "                    by_month[m] = 0\n",
    "            if hp in by_hospital:\n",
    "                adj_rate - by_hospital[hp]\n",
    "                if rt is not None:\n",
    "                    by_hospital[hp] = round(adj_rate + rt, 2)\n",
    "                else:\n",
    "                    rt = 0\n",
    "                    by_hospital[hp] = round(adj_rate + rt, 2)\n",
    "            else:\n",
    "                    if rt is not None:\n",
    "                        by_hospital[row['HOSPITAL']] = round(rt, 2)\n",
    "                    else:\n",
    "                        by_hospital[row['HOSPITAL']] = 0\n",
    "    return by_month, by_hospital\n",
    "\n",
    "\n",
    "            "
   ]
  },
  {
   "cell_type": "code",
   "execution_count": 225,
   "metadata": {},
   "outputs": [
    {
     "data": {
      "text/plain": [
       "({'2021-05': 192.38,\n",
       "  '2021-03': 378.72,\n",
       "  '2021-07': 277.67,\n",
       "  '2021-06': 236.53,\n",
       "  '2021-11': 229.7,\n",
       "  '2021-10': 234.52,\n",
       "  '2021-12': 297.87,\n",
       "  '2021-04': 337.7,\n",
       "  '2021-09': 160.4,\n",
       "  '2021-02': 158.55,\n",
       "  '2021-01': 111.91,\n",
       "  '2021-08': 152.28},\n",
       " {'Missouri Baptist': 127.64,\n",
       "  'SSM DePaul': 236.53,\n",
       "  'SLU Hospital': 111.91,\n",
       "  'Mercy St. Louis': 234.52,\n",
       "  'Barnes Jewish': 152.28,\n",
       "  'Mercy Springfield': 87.27})"
      ]
     },
     "execution_count": 225,
     "metadata": {},
     "output_type": "execute_result"
    }
   ],
   "source": [
    "summarize_reimbursement('/data/visits.csv','/data/negotiated_rates.json')"
   ]
  },
  {
   "cell_type": "code",
   "execution_count": 227,
   "metadata": {},
   "outputs": [
    {
     "name": "stdout",
     "output_type": "stream",
     "text": [
      "277.67\n",
      "378.72\n"
     ]
    }
   ],
   "source": [
    "print(summarize_reimbursement('/data/visits.csv','/data/negotiated_rates.json')[0]['2021-07'])\n",
    "print(summarize_reimbursement('/data/visits.csv','/data/negotiated_rates.json')[0]['2021-03'])"
   ]
  },
  {
   "cell_type": "code",
   "execution_count": 226,
   "metadata": {},
   "outputs": [
    {
     "ename": "AssertionError",
     "evalue": "",
     "output_type": "error",
     "traceback": [
      "\u001b[0;31m---------------------------------------------------------------------------\u001b[0m",
      "\u001b[0;31mAssertionError\u001b[0m                            Traceback (most recent call last)",
      "\u001b[0;32m<ipython-input-226-6e0ff7d89855>\u001b[0m in \u001b[0;36m<module>\u001b[0;34m\u001b[0m\n\u001b[1;32m      1\u001b[0m \u001b[0;32massert\u001b[0m \u001b[0;34m(\u001b[0m\u001b[0msummarize_reimbursement\u001b[0m\u001b[0;34m(\u001b[0m\u001b[0;34m'/data/visits.csv'\u001b[0m\u001b[0;34m,\u001b[0m\u001b[0;34m'/data/negotiated_rates.json'\u001b[0m\u001b[0;34m)\u001b[0m\u001b[0;34m[\u001b[0m\u001b[0;36m0\u001b[0m\u001b[0;34m]\u001b[0m\u001b[0;34m[\u001b[0m\u001b[0;34m'2021-07'\u001b[0m\u001b[0;34m]\u001b[0m \u001b[0;34m==\u001b[0m \u001b[0;36m277.67\u001b[0m\u001b[0;34m)\u001b[0m\u001b[0;34m\u001b[0m\u001b[0;34m\u001b[0m\u001b[0m\n\u001b[1;32m      2\u001b[0m \u001b[0;32massert\u001b[0m \u001b[0;34m(\u001b[0m\u001b[0msummarize_reimbursement\u001b[0m\u001b[0;34m(\u001b[0m\u001b[0;34m'/data/visits.csv'\u001b[0m\u001b[0;34m,\u001b[0m\u001b[0;34m'/data/negotiated_rates.json'\u001b[0m\u001b[0;34m)\u001b[0m\u001b[0;34m[\u001b[0m\u001b[0;36m0\u001b[0m\u001b[0;34m]\u001b[0m\u001b[0;34m[\u001b[0m\u001b[0;34m'2021-03'\u001b[0m\u001b[0;34m]\u001b[0m \u001b[0;34m==\u001b[0m \u001b[0;36m378.72\u001b[0m\u001b[0;34m)\u001b[0m\u001b[0;34m\u001b[0m\u001b[0;34m\u001b[0m\u001b[0m\n\u001b[0;32m----> 3\u001b[0;31m \u001b[0;32massert\u001b[0m \u001b[0;34m(\u001b[0m\u001b[0msummarize_reimbursement\u001b[0m\u001b[0;34m(\u001b[0m\u001b[0;34m'/data/visits.csv'\u001b[0m\u001b[0;34m,\u001b[0m\u001b[0;34m'/data/negotiated_rates.json'\u001b[0m\u001b[0;34m)\u001b[0m\u001b[0;34m[\u001b[0m\u001b[0;36m1\u001b[0m\u001b[0;34m]\u001b[0m\u001b[0;34m[\u001b[0m\u001b[0;34m'Mercy St. Louis'\u001b[0m\u001b[0;34m]\u001b[0m \u001b[0;34m==\u001b[0m \u001b[0;36m380.07\u001b[0m\u001b[0;34m)\u001b[0m\u001b[0;34m\u001b[0m\u001b[0;34m\u001b[0m\u001b[0m\n\u001b[0m\u001b[1;32m      4\u001b[0m \u001b[0;32massert\u001b[0m \u001b[0;34m(\u001b[0m\u001b[0msummarize_reimbursement\u001b[0m\u001b[0;34m(\u001b[0m\u001b[0;34m'/data/visits.csv'\u001b[0m\u001b[0;34m,\u001b[0m\u001b[0;34m'/data/negotiated_rates.json'\u001b[0m\u001b[0;34m)\u001b[0m\u001b[0;34m[\u001b[0m\u001b[0;36m1\u001b[0m\u001b[0;34m]\u001b[0m\u001b[0;34m[\u001b[0m\u001b[0;34m'Mercy Springfield'\u001b[0m\u001b[0;34m]\u001b[0m \u001b[0;34m==\u001b[0m \u001b[0;36m518.59\u001b[0m\u001b[0;34m)\u001b[0m\u001b[0;34m\u001b[0m\u001b[0;34m\u001b[0m\u001b[0m\n",
      "\u001b[0;31mAssertionError\u001b[0m: "
     ]
    }
   ],
   "source": [
    "assert (summarize_reimbursement('/data/visits.csv','/data/negotiated_rates.json')[0]['2021-07'] == 277.67)\n",
    "assert (summarize_reimbursement('/data/visits.csv','/data/negotiated_rates.json')[0]['2021-03'] == 378.72)\n",
    "assert (summarize_reimbursement('/data/visits.csv','/data/negotiated_rates.json')[1]['Mercy St. Louis'] == 380.07)\n",
    "assert (summarize_reimbursement('/data/visits.csv','/data/negotiated_rates.json')[1]['Mercy Springfield'] == 518.59)"
   ]
  },
  {
   "cell_type": "code",
   "execution_count": null,
   "metadata": {},
   "outputs": [],
   "source": []
  }
 ],
 "metadata": {
  "kernelspec": {
   "display_name": "Python 3",
   "language": "python",
   "name": "python3"
  },
  "language_info": {
   "codemirror_mode": {
    "name": "ipython",
    "version": 3
   },
   "file_extension": ".py",
   "mimetype": "text/x-python",
   "name": "python",
   "nbconvert_exporter": "python",
   "pygments_lexer": "ipython3",
   "version": "3.6.7"
  }
 },
 "nbformat": 4,
 "nbformat_minor": 4
}
